{
  "nbformat": 4,
  "nbformat_minor": 0,
  "metadata": {
    "colab": {
      "name": "Lecture1-Parameter-regression.ipynb",
      "provenance": [],
      "collapsed_sections": [],
      "authorship_tag": "ABX9TyOMLYm9KAwCmP3k+a2Dgk/5",
      "include_colab_link": true
    },
    "kernelspec": {
      "name": "python3",
      "display_name": "Python 3"
    }
  },
  "cells": [
    {
      "cell_type": "markdown",
      "metadata": {
        "id": "view-in-github",
        "colab_type": "text"
      },
      "source": [
        "<a href=\"https://colab.research.google.com/github/franciscovillaescusa/ML_hydro/blob/master/Lecture1_Parameter_regression.ipynb\" target=\"_parent\"><img src=\"https://colab.research.google.com/assets/colab-badge.svg\" alt=\"Open In Colab\"/></a>"
      ]
    },
    {
      "cell_type": "markdown",
      "metadata": {
        "id": "-XFyLxLpYKyL"
      },
      "source": [
        "## **CAMELS: Cosmology and Astrophysics with Machine Learning Simulations**\n",
        "[https://www.camel-simulations.org]\n",
        "- A collection of 4,233 N-body + state-of-the-art (magneto-)hydrodynamic simulations\n",
        "- Simulations vary 6 cosmological + astrophysical parameters, $\\{ \\Omega_{\\rm m}, \\sigma_8, A_{\\rm SN1}, A_{\\rm SN2}, A_{\\rm AGN1}, A_{\\rm AGN2}\\}$, plus initial random seed\n",
        "- 2 suites: AREPO/IllustrisTNG + SIMBA/GIZMO\n",
        "- Each suite contains 4 sets: \n",
        "  - **LH**. Each sim has a different values of cosmological, astrophysical and random seed. Organized in a latin-hypercube. 1,000 sims.\n",
        "  - **1P**: From a central/fiducial cosmology, simulations vary the value of one single parameter at a time. Same random seed for all sims. 61 sims.\n",
        "  - **CV**: All simulations have the same cosmology and astrophysics, only different random seed. To explore cosmic variance. 27 sims.\n",
        "  - **EX**: A set of 3 extreme models: 1) No feedback, 2) extreme AGN feedback and 3) extreme supernova feedback. 3 sims.\n",
        "\n",
        "\n",
        "We are going to use data from the LH set. In particular the Star-formation rate density (SFRH).\n",
        "\n",
        "SFRH = Global rate of formation of stars per unit of volume. It is a function of redshift:\n",
        "\n",
        "SFRH = SFRH(z)\n",
        "\n",
        "When changing cosmology and astrophysics, this quantity will be affected. It is possible to infer the value of the cosmological and astrophysical parameters just from measurements of this quantity:\n",
        "\n",
        "$\\vec{\\theta}=f({\\rm SFRH}(z))$        \n",
        " where \n",
        "       \n",
        "$\\vec{\\theta}=\\{ \\Omega_{\\rm m}, \\sigma_8, A_{\\rm SN1}, A_{\\rm SN2}, A_{\\rm AGN1}, A_{\\rm AGN2} \\}$ \n",
        "\n",
        "We are going to approximate the function $f$ with a neural network.\n",
        "#############################################################\n",
        "\n",
        "Slides with the theory background can be found [here](https://docs.google.com/presentation/d/15kvXYfaQk245MgctHqlGipUJdcpMxXxsbU7d3vF_ga4/edit?usp=sharing)."
      ]
    },
    {
      "cell_type": "markdown",
      "metadata": {
        "id": "qR9x1o8g915Q"
      },
      "source": [
        "#### Load libraries"
      ]
    },
    {
      "cell_type": "code",
      "metadata": {
        "id": "x1YKwS_D95_U"
      },
      "source": [
        "import numpy as np\n",
        "import sys,os,time\n",
        "import torch \n",
        "import torch.nn as nn\n",
        "from torch.utils.data.dataset import Dataset\n",
        "from torch.utils.data import DataLoader"
      ],
      "execution_count": 6,
      "outputs": []
    },
    {
      "cell_type": "markdown",
      "metadata": {
        "id": "-Da2ULqidUx1"
      },
      "source": [
        "#### If GPUs are available, use them"
      ]
    },
    {
      "cell_type": "code",
      "metadata": {
        "id": "rbqUdFuodbwR",
        "colab": {
          "base_uri": "https://localhost:8080/"
        },
        "outputId": "13d1ffb8-06df-45e6-8f37-533a02e2a3b3"
      },
      "source": [
        "if torch.cuda.is_available():\n",
        "    print(\"CUDA Available\")\n",
        "    device = torch.device('cuda')\n",
        "else:\n",
        "    print('CUDA Not Available')\n",
        "    device = torch.device('cpu')"
      ],
      "execution_count": 7,
      "outputs": [
        {
          "output_type": "stream",
          "text": [
            "CUDA Not Available\n"
          ],
          "name": "stdout"
        }
      ]
    },
    {
      "cell_type": "markdown",
      "metadata": {
        "id": "Y8M1AjWhqto0"
      },
      "source": [
        "### Lets get familiar with the data"
      ]
    },
    {
      "cell_type": "code",
      "metadata": {
        "id": "Bhma-CVtn8zj"
      },
      "source": [
        "z      = np.linspace(0.0, 7.0, 100)            #redshifts of the SFRD\n",
        "SFRD   = np.load('SFRH_IllustrisTNG.npy')      #read SFRD data\n",
        "params = np.loadtxt('params_IllustrisTNG.txt') #read value of cosmological & astrophysics parameters"
      ],
      "execution_count": 8,
      "outputs": []
    },
    {
      "cell_type": "markdown",
      "metadata": {
        "id": "m97m80ekDvDa"
      },
      "source": [
        "#### See the dimensions of the data\n"
      ]
    },
    {
      "cell_type": "code",
      "metadata": {
        "id": "ZyW0nQo9o5LT",
        "colab": {
          "base_uri": "https://localhost:8080/"
        },
        "outputId": "6cc611ed-43ab-4e3d-db16-b69205d7a0bd"
      },
      "source": [
        "print(z.shape)\n",
        "print(SFRD.shape)\n",
        "print(params.shape)"
      ],
      "execution_count": 9,
      "outputs": [
        {
          "output_type": "stream",
          "text": [
            "(100,)\n",
            "(1000, 100)\n",
            "(1000, 6)\n"
          ],
          "name": "stdout"
        }
      ]
    },
    {
      "cell_type": "markdown",
      "metadata": {
        "id": "4KmXmyaUD1vD"
      },
      "source": [
        "#### Lets plot the first two SFRD from the dataset"
      ]
    },
    {
      "cell_type": "code",
      "metadata": {
        "colab": {
          "base_uri": "https://localhost:8080/",
          "height": 279
        },
        "id": "IBl5DRbOpKb3",
        "outputId": "c8f8cc48-d2f9-40bd-da53-f83de4ed7914"
      },
      "source": [
        "import matplotlib.pyplot as plt\n",
        " \n",
        "plt.ylabel(r'${\\rm SFRH}\\,\\,[M_\\odot {\\rm yr}^{-1}{\\rm Mpc}^{-3}]$')\n",
        "plt.xlabel(r'$z$')\n",
        "\n",
        "plt.plot(z, SFRD[0])\n",
        "plt.plot(z, SFRD[1])\n",
        " \n",
        "plt.show()"
      ],
      "execution_count": 10,
      "outputs": [
        {
          "output_type": "display_data",
          "data": {
            "image/png": "[encoded data removed]",
            "text/plain": [
              "<Figure size 432x288 with 1 Axes>"
            ]
          },
          "metadata": {
            "tags": [],
            "needs_background": "light"
          }
        }
      ]
    },
    {
      "cell_type": "markdown",
      "metadata": {
        "id": "nGGk7EV1EMZ5"
      },
      "source": [
        "#### Get the value of the cosmological and astrophysical parameters for these two SFRD"
      ]
    },
    {
      "cell_type": "code",
      "metadata": {
        "id": "MnCPci3LqnW8",
        "colab": {
          "base_uri": "https://localhost:8080/"
        },
        "outputId": "3aafb1b6-b47f-474d-dd9e-009976e6f50d"
      },
      "source": [
        "print('Sim: [Omega_m, sigma_8, A_SN1, A_AGN1, A_SN2, A_AGN2]')\n",
        "print('0:  ',params[0])\n",
        "print('1:  ',params[1])"
      ],
      "execution_count": 11,
      "outputs": [
        {
          "output_type": "stream",
          "text": [
            "Sim: [Omega_m, sigma_8, A_SN1, A_AGN1, A_SN2, A_AGN2]\n",
            "0:   [0.309   0.979   3.11234 1.12194 0.6685  0.53182]\n",
            "1:   [0.3026  0.9394  3.42001 3.96137 1.03311 1.1607 ]\n"
          ],
          "name": "stdout"
        }
      ]
    },
    {
      "cell_type": "markdown",
      "metadata": {
        "id": "xkCiKGaPE5Q1"
      },
      "source": [
        "### **Exercise**: calculate range of variation for each parameter, together with their mean value and standard deviation."
      ]
    },
    {
      "cell_type": "code",
      "metadata": {
        "id": "urluQkLCEUjY"
      },
      "source": [
        ""
      ],
      "execution_count": 11,
      "outputs": []
    },
    {
      "cell_type": "markdown",
      "metadata": {
        "id": "gDpWsd24cXif"
      },
      "source": [
        "### Lets set the value of the (hyper-)parameters"
      ]
    },
    {
      "cell_type": "code",
      "metadata": {
        "id": "GtaqV6OAcerx"
      },
      "source": [
        "seed           = 1                         #random seed to shuffle data before splitting into training, validation and testing\n",
        "f_SFRD         = 'SFRH_IllustrisTNG.npy'   #file with the SFRD data\n",
        "f_params       = 'params_IllustrisTNG.txt' #file with the value of the parameters\n",
        "min_valid_loss = 1e7                       #set this to a large number. Used to compute \n",
        "\n",
        "batch_size     = 32                        #number of elements each batch contains. Hyper-parameter\n",
        "lr             = 3e-4                      #value of the learning rate. Hyper-parameter\n",
        "wd             = 0.0                       #value of the weight decay. Hyper-parameter\n",
        "dr             = 0.2                       #dropout rate. Hyper-parameter\n",
        "epochs         = 300                       #number of epochs to train the network. Hyper-parameter\n",
        "\n",
        "f_model = 'best_model.pt'"
      ],
      "execution_count": 73,
      "outputs": []
    },
    {
      "cell_type": "markdown",
      "metadata": {
        "id": "m3RoOx8iSUL8"
      },
      "source": [
        "### Lets write the function that loads the data.\n",
        "For convenience, is good to use the pytorch data loader.\n",
        "We need to define a python class and define the following two protocols:\n",
        "- `__getitem__()`. Will return the input and output for one particular element of the dataset.\n",
        "- `__len__()`. Will return the total number of elements in the dataset.italicized text.\n",
        "\n",
        "It is important to normalize the data. There are two typical options:\n",
        "\n",
        "- $\\tilde{X}=(X-\\bar{x})/\\sigma_X$\n",
        "- $\\tilde{X}=[X-{\\rm min}(X)]/[{\\rm max}(X) - {\\rm min}(X)]$"
      ]
    },
    {
      "cell_type": "code",
      "metadata": {
        "id": "LPo_kekxFCzF"
      },
      "source": [
        "# This routine creates a dataset loader\n",
        "# mode ---------> 'train', 'valid', 'test', 'all'. How to create the dataset\n",
        "# f_SFRD -------> file containing the data for the SFRD\n",
        "# f_params -----> file containing the value of the cosmological and astrophysical parameters\n",
        "# batch_size ---> number of elements in the batch\n",
        "# seed ---------> the data is randomly shuffled before being split into training, validation and testing. This set the random seed for that. \n",
        "def create_dataset(mode, f_SFRD, f_params, batch_size, seed):\n",
        "\n",
        "    # create the class with the dataset\n",
        "    data_set = make_dataset(mode, f_SFRD, f_params, seed)\n",
        "\n",
        "    # create the data loader\n",
        "    return DataLoader(dataset=data_set, batch_size=batch_size, shuffle=True)\n",
        "\n",
        "\n",
        "# This class creates the dataset \n",
        "class make_dataset():\n",
        "\n",
        "    def __init__(self, mode, f_SFRD, f_params, seed):\n",
        "\n",
        "        # read the data\n",
        "        SFRD   = np.load(f_SFRD)      #read SFRD data\n",
        "        params = np.loadtxt(f_params) #read value of the parameters\n",
        "\n",
        "        # normalize the value of the SFRD\n",
        "        SFRD[np.where(SFRD==0.0)] = 1e-12 #avoid points with SFRD=0\n",
        "        SFRD = np.log10(SFRD)\n",
        "        mean = np.mean(SFRD, axis=0, dtype=np.float64)\n",
        "        std  = np.std(SFRD,  axis=0, dtype=np.float64)\n",
        "        SFRD = (SFRD - mean)/std\n",
        "\n",
        "        # Normalize the value of the parameters\n",
        "        min_params = np.min(params, axis=0)\n",
        "        max_params = np.max(params, axis=0)\n",
        "        params     = (params - min_params)/(max_params - min_params)\n",
        "\n",
        "        # get the number of simulations and number of bins in the SFRD\n",
        "        simulations = SFRD.shape[0]\n",
        "        bins        = SFRD.shape[1]\n",
        "\n",
        "        # get the size and offset depending on the type of dataset\n",
        "        if   mode=='train':  \n",
        "            size, offset = int(simulations*0.70), int(simulations*0.00)\n",
        "        elif mode=='valid':  \n",
        "            size, offset = int(simulations*0.15), int(simulations*0.70)\n",
        "        elif mode=='test':   \n",
        "            size, offset = int(simulations*0.15), int(simulations*0.85)\n",
        "        elif mode=='all':\n",
        "            size, offset = int(simulations*1.00), int(simulations*0.00)\n",
        "        else:    raise Exception('Wrong name!')\n",
        "\n",
        "        # define size, input and output arrays containing the data\n",
        "        self.size   = size\n",
        "        #self.input  = torch.zeros((size,bins), dtype=torch.float) #array with the SFRD\n",
        "        #self.output = torch.zeros((size,6),    dtype=torch.float) #array with the parameters\n",
        "\n",
        "        # randomly shuffle the data. Instead of 0 1 2 3...999 have a \n",
        "        # random permutation. E.g. 5 9 0 29...342\n",
        "        np.random.seed(seed)\n",
        "        indexes = np.arange(simulations)\n",
        "        np.random.shuffle(indexes)\n",
        "        indexes = indexes[offset:offset+size] #select indexes of the mode\n",
        "\n",
        "        # get the corresponding parameters and SFRH\n",
        "        self.input  = torch.tensor(SFRD[indexes],   dtype=torch.float32)\n",
        "        self.output = torch.tensor(params[indexes], dtype=torch.float32)\n",
        "\n",
        "    # This protocol returns the size of the dataset\n",
        "    def __len__(self):\n",
        "        return self.size\n",
        "\n",
        "    # This protocol returns \n",
        "    def __getitem__(self, idx):\n",
        "        return self.input[idx], self.output[idx]\n",
        "\n",
        "# get the data\n",
        "train_loader = create_dataset('train', f_SFRD, f_params, batch_size, seed) #training data\n",
        "valid_loader = create_dataset('valid', f_SFRD, f_params, batch_size, seed) #validation data"
      ],
      "execution_count": 74,
      "outputs": []
    },
    {
      "cell_type": "markdown",
      "metadata": {
        "id": "dcKUktRv-NGm"
      },
      "source": [
        "### Lets define the architecture of the neural network\n",
        "Use a python class and define the layers in the `__init__()` protocol and the model in the `forward()` routine."
      ]
    },
    {
      "cell_type": "code",
      "metadata": {
        "id": "zZyXW8scuyZT",
        "colab": {
          "base_uri": "https://localhost:8080/"
        },
        "outputId": "ec78be92-6857-4d34-87ee-050ee2b24c46"
      },
      "source": [
        "class one_hidden_layer(nn.Module):\n",
        "    \n",
        "    def __init__(self, input_size, hidden_size, output_size, dropout_rate):\n",
        "        super(one_hidden_layer, self).__init__()\n",
        "        \n",
        "        # define the fully connected layers\n",
        "        self.fc1       = nn.Linear(input_size,  hidden_size) \n",
        "        self.fc2       = nn.Linear(hidden_size, output_size)\n",
        "\n",
        "        # define the other layers\n",
        "        self.dropout   = nn.Dropout(p=dropout_rate)\n",
        "        self.ReLU      = nn.ReLU()\n",
        "        self.LeakyReLU = nn.LeakyReLU(0.2)\n",
        "       \n",
        "    # forward pass\n",
        "    def forward(self, x):\n",
        "        out = self.fc1(x)\n",
        "        out = self.LeakyReLU(out)\n",
        "        out = self.dropout(out)\n",
        "        out = self.fc2(out)         \n",
        "        return out\n",
        "\n",
        "# get the model and move it to the GPU\n",
        "model = one_hidden_layer(100, 100, 6, dr) #architecture\n",
        "model.to(device=device)                  #move the architecture to the GPU, if available\n",
        "\n",
        "# compute the number of parameters in the model\n",
        "network_total_params = sum(p.numel() for p in model.parameters())\n",
        "print('total number of parameters in the model = %d'%network_total_params)"
      ],
      "execution_count": 75,
      "outputs": [
        {
          "output_type": "stream",
          "text": [
            "total number of parameters in the model = 10706\n"
          ],
          "name": "stdout"
        }
      ]
    },
    {
      "cell_type": "markdown",
      "metadata": {
        "id": "XgQP0DGwbArB"
      },
      "source": [
        "### Define the loss function and optimizer"
      ]
    },
    {
      "cell_type": "code",
      "metadata": {
        "id": "Joludtpi3beR"
      },
      "source": [
        "criterion = nn.MSELoss()  #loss function. In this case MSE (mean squared error)\n",
        "optimizer = torch.optim.Adam(model.parameters(), lr=lr, betas=(0.5, 0.999), weight_decay=wd)"
      ],
      "execution_count": 76,
      "outputs": []
    },
    {
      "cell_type": "markdown",
      "metadata": {
        "id": "_g-z0m5ejKlw"
      },
      "source": [
        "## Train!"
      ]
    },
    {
      "cell_type": "code",
      "metadata": {
        "id": "_xdgsLiwh2IB"
      },
      "source": [
        "start = time.time()\n",
        "\n",
        "train_value = np.zeros(epochs)\n",
        "valid_value = np.zeros(epochs)\n",
        "\n",
        "# do a loop over all epochs\n",
        "for epoch in range(epochs):\n",
        "        \n",
        "    # do training\n",
        "    train_loss, points = 0.0, 0\n",
        "    model.train()  #set this when training. Some architecture pieces, e.g. dropout behave differently\n",
        "    for SFRH_train, params_train in train_loader:  #do a loop over all elements in the training set\n",
        "\n",
        "        # get the size of the batch\n",
        "        bs = SFRH_train.shape[0]\n",
        "\n",
        "        # move data to GPU\n",
        "        params_train = params_train.to(device) \n",
        "        SFRH_train   = SFRH_train.to(device)  \n",
        "\n",
        "        # compute the value predicted by the network \n",
        "        params_pred  = model(SFRH_train)\n",
        "\n",
        "        # compute loss \n",
        "        loss = criterion(params_pred, params_train)\n",
        "\n",
        "        # compute cumulative loss and number of examples used\n",
        "        train_loss += (loss.item())*bs\n",
        "        points     += bs\n",
        "\n",
        "        # zero gradients and do backpropagation. This is the magic!\n",
        "        optimizer.zero_grad()\n",
        "        loss.backward()\n",
        "        optimizer.step()\n",
        "\n",
        "    # get the average training loss\n",
        "    train_loss /= points\n",
        "    train_value[epoch] = train_loss\n",
        "\n",
        "\n",
        "    # do validation\n",
        "    valid_loss, points = 0.0, 0\n",
        "    model.eval()   #set this for validation and testing. Some architecture pieces, e.g. dropout behave differently\n",
        "    for SFRH_val, params_val in valid_loader: # do a loop over all elements in the validation set\n",
        "        with torch.no_grad():   #put this for validation/testing, so save memory and be more efficient. It tells to dont save gradients.\n",
        "\n",
        "            # get the size of the batch\n",
        "            bs = SFRH_val.shape[0]\n",
        "\n",
        "            # move data to the GPU\n",
        "            params_val = params_val.to(device)\n",
        "            SFRH_val   = SFRH_val.to(device)\n",
        "\n",
        "            # compute prediction by the network\n",
        "            params_pred = model(SFRH_val)\n",
        "\n",
        "            # compute cumulative loss and number of examples used\n",
        "            valid_loss += (criterion(params_pred, params_val).item())*bs\n",
        "            points     += bs\n",
        "\n",
        "    # get the average validation loss\n",
        "    valid_loss /= points\n",
        "    valid_value[epoch] = valid_loss\n",
        "\n",
        "    # save model if it has a lower validation loss\n",
        "    print('%03d %.3e %.3e'%(epoch, train_loss, valid_loss), end='')\n",
        "    if valid_loss<min_valid_loss:\n",
        "        torch.save(model.state_dict(), f_model)\n",
        "        min_valid_loss = valid_loss\n",
        "        print(' (best-model)')\n",
        "    else:\n",
        "        print('')\n",
        "\n",
        "    \n",
        "stop = time.time()\n",
        "print('Time taken (seconds):', \"{:.4f}\".format(stop-start))"
      ],
      "execution_count": null,
      "outputs": []
    },
    {
      "cell_type": "markdown",
      "metadata": {
        "id": "hJkfJqjMmSjw"
      },
      "source": [
        "## Exercises:\n",
        "- Save training and validation losses to file or array and make a plot with training loss and validation loss as a function of the number of epochs.\n",
        "- Retrain the network using a larger number of epochs and redo the plot.\n",
        "- Retrain the network using a higher and smaller value of the learning rate.\n",
        "- Retrain the network using different values of the weight decay\n",
        "- Retrain the network using a larger number of neurons per layer\n",
        "- Change the architecture and implement a model with 3 hidden layers\n",
        "- Play with all the possible things (learning rate, weight decay, number of hidden layers, number of neurons per layer, number of epochs...etc) and get the model with the lowest validation error"
      ]
    },
    {
      "cell_type": "code",
      "metadata": {
        "id": "o5Z029Lmz4Vy",
        "colab": {
          "base_uri": "https://localhost:8080/",
          "height": 287
        },
        "outputId": "068a45bc-e6b4-4cac-e823-44b37f919ece"
      },
      "source": [
        "plt.ylabel(r'$\\mathcal{L}$')\n",
        "plt.xlabel(r'${\\rm epochs}$')\n",
        "\n",
        "plt.xscale('log')\n",
        "plt.yscale('log')\n",
        "\n",
        "epochs2 = np.arange(epochs)\n",
        "plt.plot(epochs2, train_value)\n",
        "plt.plot(epochs2, valid_value)\n",
        " \n",
        "plt.show()"
      ],
      "execution_count": 78,
      "outputs": [
        {
          "output_type": "display_data",
          "data": {
            "image/png": "[encoded data removed]",
            "text/plain": [
              "<Figure size 432x288 with 1 Axes>"
            ]
          },
          "metadata": {
            "tags": [],
            "needs_background": "light"
          }
        }
      ]
    },
    {
      "cell_type": "code",
      "metadata": {
        "id": "vCMVXnI8z4GP"
      },
      "source": [
        ""
      ],
      "execution_count": null,
      "outputs": []
    },
    {
      "cell_type": "code",
      "metadata": {
        "id": "obH3Bccrz3-w"
      },
      "source": [
        ""
      ],
      "execution_count": null,
      "outputs": []
    },
    {
      "cell_type": "code",
      "metadata": {
        "id": "NQfoL6wmz3AX"
      },
      "source": [
        ""
      ],
      "execution_count": null,
      "outputs": []
    },
    {
      "cell_type": "markdown",
      "metadata": {
        "id": "b7Oq-mivvedI"
      },
      "source": [
        "## Lets test the best-model!!"
      ]
    },
    {
      "cell_type": "code",
      "metadata": {
        "id": "GuILRwKFGykE",
        "colab": {
          "base_uri": "https://localhost:8080/"
        },
        "outputId": "d4a78a04-6097-4afa-ec11-a98ed0c3420d"
      },
      "source": [
        "# get the test data\n",
        "test_loader = create_dataset('test', f_SFRD, f_params, batch_size, seed) #test data\n",
        "\n",
        "# load the best-model and move it to the GPU\n",
        "model.load_state_dict(torch.load(f_model))\n",
        "model.to(device=device)\n",
        "\n",
        "params_true = np.zeros((150,6), dtype=np.float32)\n",
        "params_NN   = np.zeros((150,6), dtype=np.float32)\n",
        "\n",
        "# loop over the different batches and get the prediction\n",
        "offset = 0\n",
        "test_loss, points = 0.0, 0\n",
        "model.eval()\n",
        "count = 0\n",
        "for SFRH_test, params_test in test_loader:\n",
        "    with torch.no_grad():\n",
        "\n",
        "        bs = SFRH_test.shape[0]\n",
        "\n",
        "        # move data to GPU\n",
        "        SFRH_test   = SFRH_test.to(device)\n",
        "        params_test = params_test.to(device)\n",
        "        \n",
        "        # make prediction using network\n",
        "        params_pred = model(SFRH_test)\n",
        "\n",
        "        params_true[count:count+bs,:] = params_test.cpu().numpy()\n",
        "        params_NN[count:count+bs, :]  = params_pred.cpu().numpy()\n",
        "\n",
        "        # compute cumulative loss and number of examples used\n",
        "        test_loss += (criterion(params_pred, params_test).item())*SFRH_test.shape[0]\n",
        "        points += SFRH_test.shape[0]\n",
        "\n",
        "        count += bs\n",
        "\n",
        "# get the average validation loss\n",
        "test_loss /= points\n",
        "\n",
        "print('test loss = %.3e'%test_loss)"
      ],
      "execution_count": 80,
      "outputs": [
        {
          "output_type": "stream",
          "text": [
            "test loss = 4.577e-02\n"
          ],
          "name": "stdout"
        }
      ]
    },
    {
      "cell_type": "markdown",
      "metadata": {
        "id": "QGQxX-Xxy8j-"
      },
      "source": [
        "### **Exercise**: save in arrays or in a file the true and predicted values of the cosmological and astrophysical parameters. Take into account that the network will predict the normalized values, not the actual values. Make a plot with 6 panels. Each panel should have a scatter plot with the true value in the x-axis and the predicted value in the y-axis."
      ]
    },
    {
      "cell_type": "code",
      "metadata": {
        "id": "tHwPBKxmwJ9C",
        "colab": {
          "base_uri": "https://localhost:8080/",
          "height": 281
        },
        "outputId": "77643b41-04f0-45d8-c6b6-eb37ab0c8319"
      },
      "source": [
        "plt.ylabel(r'${\\rm NN prediction}$')\n",
        "plt.xlabel(r'${\\rm True}$')\n",
        "\n",
        "#plt.xscale('log')\n",
        "#plt.yscale('log')\n",
        "\n",
        "plt.scatter(params_true[:,0], params_NN[:,0])\n",
        "plt.plot([0,1],[0,1])\n",
        "#plt.plot(epochs2, valid_value)\n",
        " \n",
        "plt.show()"
      ],
      "execution_count": 83,
      "outputs": [
        {
          "output_type": "display_data",
          "data": {
            "image/png": "[encoded data removed]",
            "text/plain": [
              "<Figure size 432x288 with 1 Axes>"
            ]
          },
          "metadata": {
            "tags": [],
            "needs_background": "light"
          }
        }
      ]
    },
    {
      "cell_type": "code",
      "metadata": {
        "id": "_pRmGzkTaoNk"
      },
      "source": [
        ""
      ],
      "execution_count": null,
      "outputs": []
    }
  ]
}